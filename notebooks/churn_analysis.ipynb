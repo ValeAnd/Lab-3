{
 "cells": [
  {
   "cell_type": "markdown",
   "id": "1868476f-84cf-48d3-a6d4-9843f195c5d0",
   "metadata": {},
   "source": [
    "## 1) Iniciar/Reiniciar Spark y configuración de recursos\n"
   ]
  },
  {
   "cell_type": "code",
   "execution_count": 1,
   "id": "f669e1cc-b720-4a01-aec5-4d67bf293219",
   "metadata": {},
   "outputs": [],
   "source": [
    "try: spark.stop()\n",
    "except: pass\n",
    "from pyspark.sql import SparkSession\n",
    "spark=(SparkSession.builder\n",
    "       .appName(\"churn-analysis\")\n",
    "       .master(\"local[2]\")\n",
    "       .config(\"spark.driver.memory\",\"6g\")\n",
    "       .config(\"spark.sql.shuffle.partitions\",\"200\")\n",
    "       .getOrCreate()\n",
    "      )"
   ]
  },
  {
   "cell_type": "markdown",
   "id": "dc99c095-d9ca-48ce-843c-2c9f5639db84",
   "metadata": {},
   "source": [
    "## 2) Carga del parquet y construcción de `activity` (cliente × mes)\n"
   ]
  },
  {
   "cell_type": "code",
   "execution_count": 2,
   "id": "56e916db-a7c6-468f-b7db-28319ccae2dd",
   "metadata": {},
   "outputs": [],
   "source": [
    "from pyspark.sql import functions as F, Window as W\n",
    "PATH_TRANSACTIONS=\"/home/jovyan/data/transactions.parquet\"\n",
    "COL_TIMESTAMP=\"t_dat\"; COL_CUSTOMER_ID=\"customer_id\"\n",
    "df=spark.read.parquet(PATH_TRANSACTIONS)\n",
    "activity=(df.withColumn(\n",
    "            \"_ts\",\n",
    "            F.to_timestamp(F.col(COL_TIMESTAMP).cast(\"string\")))\n",
    "            .withColumn(\"period\",F.date_trunc(\"month\",F.col(\"_ts\")))\n",
    "            .select(F.col(COL_CUSTOMER_ID).alias(\"customer_id\"),\"period\")\n",
    "            .dropna().dropDuplicates()\n",
    "         )"
   ]
  },
  {
   "cell_type": "markdown",
   "id": "eeca02ce-0f65-412d-9e4c-2e6776e439ef",
   "metadata": {},
   "source": [
    "## 3) Activos, `prev_actives`, `survivors` y métricas de churn/retención"
   ]
  },
  {
   "cell_type": "code",
   "execution_count": 3,
   "id": "6cf0d804-56b4-4f62-9b8c-9fe233b778fa",
   "metadata": {},
   "outputs": [],
   "source": [
    "from pyspark.storagelevel import StorageLevel\n",
    "activity=activity.repartition(400,\"period\").persist(StorageLevel.DISK_ONLY); activity.count()\n",
    "actives=activity.groupBy(\"period\").agg(F.countDistinct(\"customer_id\").alias(\"actives\"))\n",
    "actives=actives.withColumn(\"prev_actives\",F.lag(\"actives\").over(W.orderBy(\"period\")))\n",
    "seq=activity.withColumn(\"prev_period\",F.lag(\"period\").over(W.partitionBy(\"customer_id\").orderBy(\"period\"))).withColumn(\"is_survivor\",(F.expr(\"months_between(period, prev_period)=1\")).cast(\"int\"))\n",
    "survivors=seq.groupBy(\"period\").agg(F.sum(\"is_survivor\").alias(\"survivors\"))\n",
    "churn=(actives.join(survivors,\"period\",\"left\").fillna({\"survivors\":0}).withColumn(\"churn_count\",F.when(F.col(\"prev_actives\").isNull(),None).otherwise(F.col(\"prev_actives\")-F.col(\"survivors\"))).withColumn(\"churn_rate\",F.when(F.col(\"prev_actives\").isNull(),None).otherwise(F.round(F.col(\"churn_count\")/F.col(\"prev_actives\"),4))).withColumn(\"retention_rate\",F.when(F.col(\"prev_actives\").isNull(),None).otherwise(F.round(F.col(\"survivors\")/F.col(\"prev_actives\"),4))).orderBy(\"period\"))"
   ]
  },
  {
   "cell_type": "markdown",
   "id": "09b5e79e-9b7b-4b45-b1ec-63f97d3597cf",
   "metadata": {},
   "source": [
    "## 4) Nuevos y reactivados; ensamblado de KPIs (`kpis`)"
   ]
  },
  {
   "cell_type": "code",
   "execution_count": 4,
   "id": "8cbf75ee-6f66-4cd9-8407-e6416657f1be",
   "metadata": {},
   "outputs": [],
   "source": [
    "first_period=activity.groupBy(\"customer_id\").agg(F.min(\"period\").alias(\"first_period\"))\n",
    "new_counts=activity.join(first_period,\"customer_id\",\"left\").withColumn(\"is_new\",(F.col(\"period\")==F.col(\"first_period\")).cast(\"int\")).groupBy(\"period\").agg(F.sum(\"is_new\").alias(\"new_users\"))\n",
    "kpis=(churn.join(new_counts,\"period\",\"left\").fillna({\"new_users\":0}).withColumn(\"reactivated\",F.greatest(F.col(\"actives\")-F.col(\"survivors\")-F.col(\"new_users\"),F.lit(0))).orderBy(\"period\"))"
   ]
  },
  {
   "cell_type": "markdown",
   "id": "cc716dd3-fd83-4c8e-9810-5c7f4f4520a3",
   "metadata": {},
   "source": [
    "## 5) Identificación de churners y período de churn\n"
   ]
  },
  {
   "cell_type": "code",
   "execution_count": 5,
   "id": "3d149d7c-d3cd-4009-a758-a5903bf0b7d1",
   "metadata": {},
   "outputs": [
    {
     "name": "stdout",
     "output_type": "stream",
     "text": [
      "+----------+----------------------------------------------------------------+\n",
      "|churn_at  |customer_id                                                     |\n",
      "+----------+----------------------------------------------------------------+\n",
      "|2018-10-01|0000423b00ade91418cceaf3b26c6af3dd342b51fd051eec9c12fb36984420fa|\n",
      "|2018-10-01|000058a12d5b43e67d225668fa1f8d618c13dc232df0cad8ffe7ad4a1091e318|\n",
      "|2018-10-01|0000f1c71aafe5963c3d195cf273f7bfd50bbf17761c9199e53dbb81641becd7|\n",
      "|2018-10-01|0002b9088196900626214bcdc6d5f3d85f38fb462a480605bd50a03431600dee|\n",
      "|2018-10-01|0002e6cdaab622b5047407efc0d0bf85e23220e092012095d98119fa9cb3cee7|\n",
      "|2018-10-01|0003abe64294e66a6310c3436fa9e5b754cc5603deef4f26fc8ab8d043af9358|\n",
      "|2018-10-01|0003c98542d16e740156638a7d133d93360d3ff3d0b7ec3ccb78932a915b1cfe|\n",
      "|2018-10-01|0004068f54dbe1c7054b23c615edc5f733a508ecc54930bf323209f20410898c|\n",
      "|2018-10-01|00048f2f68760664d2d0fa1e7fbfe083f05287f342484c29a13661772507ee6b|\n",
      "|2018-10-01|0005ef6698aeae9819c35dd1d63446f251797d07fe5b4a621beee30b36156181|\n",
      "|2018-10-01|0006b5856381fac4eac03efe68a6578a2d9260f4e109f4a9be2888c11a3fe56a|\n",
      "|2018-10-01|0006d37aaf7dd84f9bbc02f6cadcb74fd72ebf370bdc5f110a8a4092aa7e173e|\n",
      "|2018-10-01|0007887b812f214b9752d8b589503a35bdf1e27b66eec310c3f93378b4873d3d|\n",
      "|2018-10-01|0007c7e54ccebc686dee9efc608fcb26559dead7b8c1995f94ce7e68e1263808|\n",
      "|2018-10-01|0008968c0d451dbc5a9968da03196fe20051965edde7413775c4eb3be9abe9c2|\n",
      "|2018-10-01|0009344276939620e81b41ab8958edca7c2a5b9d6ee45dcd599161d480b9a5d3|\n",
      "|2018-10-01|000934651054f08396856cd83fad3b36b97ab95a0baf79cf86769e92bf3fef40|\n",
      "|2018-10-01|00096b1fee245c60537a069f01574dba866acb464accf516066f4d338b545a1b|\n",
      "|2018-10-01|000aa7f0dc06cd7174389e76c9e132a67860c5f65f970699daccc14425ac31a8|\n",
      "|2018-10-01|000abc5e9575b453ff1cde1e5d644f1c671daef57e0f855ae4a530266ff88412|\n",
      "|2018-10-01|000b872410f5ac2064acb999a1e0a7db4c1b5007ecaa7bcdc0a0e9006fa5f968|\n",
      "|2018-10-01|000c324da8d94bd513ab0d80a235e47fa98d2cef98bd2f1854abca11a5b48a3a|\n",
      "|2018-10-01|000c41868d0170bf1e022a985a37f52344ba14ca5c331b816982180fb4b169e1|\n",
      "|2018-10-01|000c7c794543cdb6fcd29d9c82f34cd1c0c50f0ceb6010890d66bec7f21d5d16|\n",
      "|2018-10-01|000da7cae0959d00f079d2d36f8cd7065fc91c685cd9e9b44c5f8052b03fe285|\n",
      "|2018-10-01|000e390c61c1b958716199919f017b9af6ac23d3f526e1d0ecb61ddaea4239cb|\n",
      "|2018-10-01|000f3f6631a0981dab9a1dcabbc6ebad47ffb07c680bae1c92bd170d8724227f|\n",
      "|2018-10-01|0010e8eb18f131e724d6997909af0808adbba057529edb1523944f7d4e02b4ce|\n",
      "|2018-10-01|0011ac920f6595f2eebdaefafe20e4f3945cfe66cbb1b677238c72e61d63f522|\n",
      "|2018-10-01|00120726f5b5808c5f04aba37f37cb8ddcbb03f5119e2f063eb184dc7921a017|\n",
      "|2018-10-01|00134a275ac10050ccbafa6fb46404cc45088c5ad56a58623f7f8d5130207130|\n",
      "|2018-10-01|0013d42c8b5e5653917adf59a597a253eebcb69eb0b6354e12a662faab7714e5|\n",
      "|2018-10-01|001521e8394eb81ba43ab5b84ae7e756d51ac813be212a96e8779e0e42c029c0|\n",
      "|2018-10-01|001529133de5f0cca01358473a1af5dd4ec3b8ba9c58e7b66957b81d6978def4|\n",
      "|2018-10-01|00159bfc26c2cf788c09789f006fa698b24d0f1dbd83095a7b22e06c9d0fcb92|\n",
      "|2018-10-01|0015bb7e0e28209646272cb820fdb8846bdbeb9e92cae18beaa591389e977a0c|\n",
      "|2018-10-01|0015bcfb4f899d9209301dbd37ce54f53651b0f179c88cd91c50de1807355a91|\n",
      "|2018-10-01|0015e279d3b4e775e053658bc87d37807babc40c3cad5089e4939de4a27a3c31|\n",
      "|2018-10-01|0015f16aa2702e2ec13d2e38052f496b9b915d3c64e82cdb9ce11b9324c32b34|\n",
      "|2018-10-01|0016e4c6a51a886903cd20cf5bc56e84f40ccd35b8f45f9e74d251980e9c8bd5|\n",
      "|2018-10-01|0017991a9d4336804a3782d9b2592cbb01b7699aecbae1bb52df5f989b771612|\n",
      "|2018-10-01|0017da8f8aaff2be69599da3e09170b2261d66e646133b153b50cdaf9240e7b7|\n",
      "|2018-10-01|0019ad2c0b2134c597665758a638d325e4cc518a0d813b55797859dde0e4d5bf|\n",
      "|2018-10-01|001ae5408a043f64bccd32beffe2730151414cbdf18a6eb3cc8d30bdca605652|\n",
      "|2018-10-01|001bb5c87b7f102c7139c3e97c50e30467cf8a5ed8e8cb80e9b07bc2ad01ceca|\n",
      "|2018-10-01|001cb9b2fec6b68b2d9c0479f2d6f442ec88d14fe92e513765b0da6e9acdfda9|\n",
      "|2018-10-01|001fd23db1109a94bba1319bb73df0b479059027c182da490e1161b34cd3af61|\n",
      "|2018-10-01|002194166a37c2312f2839f567e2fa331e5ff3986a3de70913fa50764310bfef|\n",
      "|2018-10-01|0021da829b898f82269fc51feded4eac2129058ee95bd75bb1591e2eb14ecc79|\n",
      "|2018-10-01|0021f2f2aa8e2951c176facb416ece1e0536a7f9f39d26c6292f3b93820b5636|\n",
      "+----------+----------------------------------------------------------------+\n",
      "only showing top 50 rows\n",
      "\n"
     ]
    }
   ],
   "source": [
    "from pyspark.sql import functions as F, Window as W\n",
    "w = W.partitionBy(\"customer_id\").orderBy(\"period\")\n",
    "churners = (activity\n",
    "    .withColumn(\"next_period\", F.lead(\"period\").over(w))\n",
    "    .withColumn(\"churn_at\", F.when(F.col(\"next_period\").isNull() | (F.months_between(\"next_period\",\"period\")!=1), F.add_months(\"period\",1)))\n",
    "    .where(F.col(\"churn_at\").isNotNull())\n",
    "    .select(\"churn_at\",\"customer_id\"))\n",
    "churners.orderBy(\"churn_at\",\"customer_id\").show(50, truncate=False)"
   ]
  }
 ],
 "metadata": {
  "kernelspec": {
   "display_name": "Python 3 (ipykernel)",
   "language": "python",
   "name": "python3"
  },
  "language_info": {
   "codemirror_mode": {
    "name": "ipython",
    "version": 3
   },
   "file_extension": ".py",
   "mimetype": "text/x-python",
   "name": "python",
   "nbconvert_exporter": "python",
   "pygments_lexer": "ipython3",
   "version": "3.11.6"
  }
 },
 "nbformat": 4,
 "nbformat_minor": 5
}
