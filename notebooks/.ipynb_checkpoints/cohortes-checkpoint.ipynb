{
 "cells": [
  {
   "cell_type": "markdown",
   "id": "d24da106-285c-479e-824d-073a32168670",
   "metadata": {},
   "source": [
    "## 1) Carga del parquet y periodo mensual"
   ]
  },
  {
   "cell_type": "code",
   "execution_count": null,
   "id": "11afca34-8e32-4501-9d4c-4e376ecc6b14",
   "metadata": {},
   "outputs": [],
   "source": [
    "from pyspark.sql import functions as F, Window as W\n",
    "\n",
    "PATH_TRANSACTIONS=\"/home/jovyan/data/transactions.parquet\"\n",
    "COL_TIMESTAMP=\"t_dat\"\n",
    "COL_CUSTOMER_ID=\"customer_id\"\n",
    "\n",
    "df=spark.read.parquet(PATH_TRANSACTIONS)\n",
    "dfn=(df\n",
    "     .withColumn(\"_ts\",F.to_timestamp(F.col(COL_TIMESTAMP).cast(\"string\"),\"yyyy-MM-dd\"))\n",
    "     .withColumn(\"period\",F.date_trunc(\"month\",F.col(\"_ts\")))\n",
    "     .select(F.col(COL_CUSTOMER_ID).alias(\"customer_id\"),\"period\")\n",
    "     .dropna())\n",
    "activity=dfn.dropDuplicates()\n"
   ]
  },
  {
   "cell_type": "markdown",
   "id": "fa72b089-36ee-4ba7-86cf-f8a553c9d1d5",
   "metadata": {},
   "source": [
    "## 2) Cohorte por mes de primera compra (muestra)"
   ]
  },
  {
   "cell_type": "code",
   "execution_count": null,
   "id": "afb8d6f1-90fc-47b1-9a20-d8c5d5375ed7",
   "metadata": {},
   "outputs": [],
   "source": [
    "first_tx=(activity.groupBy(\"customer_id\")\n",
    "           .agg(F.min(\"period\").alias(\"cohort_month\")))\n",
    "cohort_size=(first_tx.groupBy(\"cohort_month\")\n",
    "             .agg(F.countDistinct(\"customer_id\").alias(\"n0\")))\n",
    "first_tx.orderBy(\"cohort_month\",\"customer_id\").show(20,truncate=False)\n"
   ]
  },
  {
   "cell_type": "markdown",
   "id": "788a0daf-4960-4b87-9161-c5d2a71a2a89",
   "metadata": {},
   "source": [
    "## 3) Actividad mensual y cohort_index (muestra)"
   ]
  },
  {
   "cell_type": "code",
   "execution_count": null,
   "id": "cf0cbf99-d360-4c21-859b-f3a9cfeeff5e",
   "metadata": {},
   "outputs": [],
   "source": [
    "tx_monthly=(activity.groupBy(\"customer_id\",\"period\")\n",
    "              .agg(F.count(\"*\").alias(\"hits\")))\n",
    "txm=(tx_monthly.join(first_tx,\"customer_id\",\"left\")\n",
    "     .withColumn(\"cohort_index\",\n",
    "                 (F.months_between(\"period\",\"cohort_month\")/F.lit(1)).cast(\"int\")))\n",
    "txm.orderBy(\"cohort_month\",\"cohort_index\",\"customer_id\").show(20,truncate=False)\n"
   ]
  },
  {
   "cell_type": "markdown",
   "id": "252171a4-3063-4ef0-a89a-90438ac18771",
   "metadata": {},
   "source": [
    "## 4) Retención por cohorte y mes relativo (muestra)"
   ]
  },
  {
   "cell_type": "code",
   "execution_count": null,
   "id": "e4b716ff-934a-4be7-9da4-10bd4d2c6123",
   "metadata": {},
   "outputs": [],
   "source": [
    "active=(txm.select(\"cohort_month\",\"cohort_index\",\"customer_id\").dropDuplicates())\n",
    "ret=(active.groupBy(\"cohort_month\",\"cohort_index\")\n",
    "      .agg(F.countDistinct(\"customer_id\").alias(\"active_users\"))\n",
    "      .join(cohort_size,\"cohort_month\",\"left\")\n",
    "      .withColumn(\"retention\",F.round(F.col(\"active_users\")/F.col(\"n0\"),4))\n",
    "      .orderBy(\"cohort_month\",\"cohort_index\"))\n",
    "ret.show(60,truncate=False)\n"
   ]
  },
  {
   "cell_type": "markdown",
   "id": "0c1a9ade-ce99-4b95-996b-21c6295b8608",
   "metadata": {},
   "source": [
    "## 5) Matriz de retención (vista amplia)"
   ]
  },
  {
   "cell_type": "code",
   "execution_count": null,
   "id": "56524ed9-4508-4d2b-b6fa-204f1fcd5d55",
   "metadata": {},
   "outputs": [],
   "source": [
    "ret_matrix=(ret.groupBy(\"cohort_month\")\n",
    "             .pivot(\"cohort_index\")\n",
    "             .agg(F.first(\"retention\"))\n",
    "             .orderBy(\"cohort_month\"))\n",
    "ret_matrix.show(20,truncate=False)\n"
   ]
  }
 ],
 "metadata": {
  "kernelspec": {
   "display_name": "Python 3 (ipykernel)",
   "language": "python",
   "name": "python3"
  },
  "language_info": {
   "codemirror_mode": {
    "name": "ipython",
    "version": 3
   },
   "file_extension": ".py",
   "mimetype": "text/x-python",
   "name": "python",
   "nbconvert_exporter": "python",
   "pygments_lexer": "ipython3",
   "version": "3.11.6"
  }
 },
 "nbformat": 4,
 "nbformat_minor": 5
}
