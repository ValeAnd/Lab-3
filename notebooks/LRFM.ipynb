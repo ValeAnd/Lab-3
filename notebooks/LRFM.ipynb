{
 "cells": [
  {
   "cell_type": "code",
   "execution_count": 31,
   "id": "10e3f99f-10ba-499a-8d30-8c5268709b85",
   "metadata": {},
   "outputs": [],
   "source": [
    "from pyspark.sql import SparkSession\n",
    "from pyspark.sql.functions import col, when, datediff, max as spark_max, min as spark_min, count, sum as spark_sum, lit\n",
    "from pyspark.sql.types import DoubleType, DateType"
   ]
  },
  {
   "cell_type": "code",
   "execution_count": 3,
   "id": "074940f2-9761-4b37-bca9-5f07ea219a72",
   "metadata": {},
   "outputs": [],
   "source": [
    "spark = SparkSession.builder \\\n",
    "    .appName(\"hym\") \\\n",
    "    .master(\"local[2]\") \\\n",
    "    .config(\"spark.ui.port\", \"4040\") \\\n",
    "    .getOrCreate()"
   ]
  },
  {
   "cell_type": "markdown",
   "id": "c1a283f8-b756-4d7f-a5cf-005dcd5e2125",
   "metadata": {},
   "source": [
    "## Carga y limpieza de datos"
   ]
  },
  {
   "cell_type": "markdown",
   "id": "91498bfb-09ec-486a-8f49-982786e9d1fb",
   "metadata": {},
   "source": [
    "### Cargar la data en Spark"
   ]
  },
  {
   "cell_type": "code",
   "execution_count": 11,
   "id": "878d278f-a96d-4ab6-bf22-03ded647de47",
   "metadata": {},
   "outputs": [],
   "source": [
    "transactions_df = spark.read.parquet(\"/home/jovyan/data/transactions.parquet\", header=True, inferSchema=True)"
   ]
  },
  {
   "cell_type": "code",
   "execution_count": 12,
   "id": "e5bb1f72-96a7-41e3-9b06-5bfb8dcef6e1",
   "metadata": {},
   "outputs": [],
   "source": [
    "customers_df = spark.read.csv(\"/home/jovyan/data/customers.csv\", header=True, inferSchema=True)"
   ]
  },
  {
   "cell_type": "markdown",
   "id": "9b420364-7f0d-4afb-9670-81146726b5cc",
   "metadata": {},
   "source": [
    "### Explorar y limpiar la data"
   ]
  },
  {
   "cell_type": "code",
   "execution_count": 13,
   "id": "924b7774-9221-4b2b-bfe0-5d85e10867d6",
   "metadata": {},
   "outputs": [
    {
     "name": "stdout",
     "output_type": "stream",
     "text": [
      "root\n",
      " |-- customer_id: string (nullable = true)\n",
      " |-- FN: double (nullable = true)\n",
      " |-- Active: double (nullable = true)\n",
      " |-- club_member_status: string (nullable = true)\n",
      " |-- fashion_news_frequency: string (nullable = true)\n",
      " |-- age: integer (nullable = true)\n",
      " |-- postal_code: string (nullable = true)\n",
      "\n",
      "root\n",
      " |-- t_dat: string (nullable = true)\n",
      " |-- customer_id: string (nullable = true)\n",
      " |-- article_id: long (nullable = true)\n",
      " |-- price: double (nullable = true)\n",
      " |-- sales_channel_id: long (nullable = true)\n",
      "\n",
      "+--------------------+----+------+------------------+----------------------+---+--------------------+\n",
      "|         customer_id|  FN|Active|club_member_status|fashion_news_frequency|age|         postal_code|\n",
      "+--------------------+----+------+------------------+----------------------+---+--------------------+\n",
      "|00000dbacae5abe5e...|NULL|  NULL|            ACTIVE|                  NONE| 49|52043ee2162cf5aa7...|\n",
      "|0000423b00ade9141...|NULL|  NULL|            ACTIVE|                  NONE| 25|2973abc54daa8a5f8...|\n",
      "|000058a12d5b43e67...|NULL|  NULL|            ACTIVE|                  NONE| 24|64f17e6a330a85798...|\n",
      "|00005ca1c9ed5f514...|NULL|  NULL|            ACTIVE|                  NONE| 54|5d36574f52495e81f...|\n",
      "|00006413d8573cd20...| 1.0|   1.0|            ACTIVE|             Regularly| 52|25fa5ddee9aac01b3...|\n",
      "+--------------------+----+------+------------------+----------------------+---+--------------------+\n",
      "only showing top 5 rows\n",
      "\n",
      "+----------+--------------------+----------+------------------+----------------+\n",
      "|     t_dat|         customer_id|article_id|             price|sales_channel_id|\n",
      "+----------+--------------------+----------+------------------+----------------+\n",
      "|2018-09-20|000058a12d5b43e67...| 663713001|0.0508305084745762|               2|\n",
      "|2018-09-20|000058a12d5b43e67...| 541518023|0.0304915254237288|               2|\n",
      "|2018-09-20|00007d2de826758b6...| 505221004|0.0152372881355932|               2|\n",
      "|2018-09-20|00007d2de826758b6...| 685687003|0.0169322033898305|               2|\n",
      "|2018-09-20|00007d2de826758b6...| 685687004|0.0169322033898305|               2|\n",
      "+----------+--------------------+----------+------------------+----------------+\n",
      "only showing top 5 rows\n",
      "\n"
     ]
    }
   ],
   "source": [
    "# Ver estructura de los datos\n",
    "\n",
    "customers_df.printSchema()\n",
    "transactions_df.printSchema()\n",
    "\n",
    "customers_df.show(5)\n",
    "transactions_df.show(5)"
   ]
  },
  {
   "cell_type": "code",
   "execution_count": 14,
   "id": "72bbc43e-7c5a-410e-92af-760dd75fdb31",
   "metadata": {},
   "outputs": [],
   "source": [
    "# Eliminar duplicados\n",
    "\n",
    "customers_df = customers_df.dropDuplicates([\"customer_id\"])\n",
    "transactions_df = transactions_df.dropDuplicates()"
   ]
  },
  {
   "cell_type": "code",
   "execution_count": 19,
   "id": "fdba4e12-c85f-4efc-8712-fdc47c003b49",
   "metadata": {},
   "outputs": [],
   "source": [
    "# Manejo de valores nulos\n",
    "\n",
    "# Clientes sin ID no sirven\n",
    "customers_df = customers_df.na.drop(subset=[\"customer_id\"])\n",
    "\n",
    "# Transacciones sin customer_id o date no son válidas\n",
    "transactions_df = transactions_df.na.drop(subset=[\"customer_id\", \"t_dat\", \"price\"])"
   ]
  },
  {
   "cell_type": "code",
   "execution_count": 20,
   "id": "bef80eac-1096-47bd-b6b2-9aaf198266c8",
   "metadata": {},
   "outputs": [],
   "source": [
    "# Asegurar tipos correctos\n",
    "\n",
    "transactions_df = transactions_df.withColumn(\"price\", col(\"price\").cast(\"double\")) \\\n",
    "                                 .withColumn(\"t_dat\", col(\"t_dat\").cast(\"date\"))"
   ]
  },
  {
   "cell_type": "code",
   "execution_count": 21,
   "id": "1a46a2e1-270f-44df-8e2a-86c52256372d",
   "metadata": {},
   "outputs": [],
   "source": [
    "# Filtrar precios inválidos\n",
    "\n",
    "transactions_df = transactions_df.filter(col(\"price\") > 0)"
   ]
  },
  {
   "cell_type": "markdown",
   "id": "cdff0d20-d451-4a59-9771-9a4dff08e402",
   "metadata": {},
   "source": [
    "## Unir clientes y transacciones"
   ]
  },
  {
   "cell_type": "code",
   "execution_count": 23,
   "id": "715d30ac-51e1-4624-869c-4f34a47ee320",
   "metadata": {},
   "outputs": [],
   "source": [
    "df = transactions_df.join(customers_df, on=\"customer_id\", how=\"inner\")"
   ]
  },
  {
   "cell_type": "markdown",
   "id": "723c7f92-da53-4a9b-adb7-3310c0a7d172",
   "metadata": {},
   "source": [
    "## Análisis LRFM"
   ]
  },
  {
   "cell_type": "markdown",
   "id": "cb9745de-3441-4bec-a2b8-738ed51a90e8",
   "metadata": {},
   "source": [
    "### Definir la fecha de referencia"
   ]
  },
  {
   "cell_type": "markdown",
   "id": "466ad0a0-9505-4add-bd7f-5b024987a0ab",
   "metadata": {},
   "source": [
    "Para calcular Recency (R) necesitamos una fecha de referencia. Lo más común es usar la última fecha de compra en el dataset"
   ]
  },
  {
   "cell_type": "code",
   "execution_count": 28,
   "id": "d6147767-b5c6-4ec2-893e-389090a10d48",
   "metadata": {},
   "outputs": [
    {
     "name": "stdout",
     "output_type": "stream",
     "text": [
      "Fecha máxima en transacciones: 2020-09-22\n"
     ]
    }
   ],
   "source": [
    "# Obtener la última fecha en el dataset\n",
    "max_date = transactions_df.agg(spark_max(\"t_dat\")).collect()[0][0]\n",
    "print(\"Fecha máxima en transacciones:\", max_date)"
   ]
  },
  {
   "cell_type": "markdown",
   "id": "84101ff6-a69d-4acf-ae86-add7c124cfe8",
   "metadata": {},
   "source": [
    "### Calcular las métricas LRFM"
   ]
  },
  {
   "cell_type": "markdown",
   "id": "d5c54dca-8916-40ef-b962-e0dc0afab224",
   "metadata": {},
   "source": [
    "Agrupamos por customer_id y calculamos cada métrica:"
   ]
  },
  {
   "cell_type": "code",
   "execution_count": 29,
   "id": "ec591528-c2b7-48f5-904b-a924bf1b7ec6",
   "metadata": {},
   "outputs": [
    {
     "name": "stdout",
     "output_type": "stream",
     "text": [
      "+--------------------+---+---+---+-------------------+\n",
      "|         customer_id|  L|  R|  F|                  M|\n",
      "+--------------------+---+---+---+-------------------+\n",
      "|fde6f7236ab9c9618...|162|571| 12|  0.203203389830508|\n",
      "|20d8178fd4d25d012...|706| 26| 41|  0.823220338983049|\n",
      "|56211faa7c8b6f289...|728|  4| 54| 0.9037118644067762|\n",
      "|0037dbd391c8b1535...|300|370|  7|0.24818644067796575|\n",
      "|052107ad48bdd5ee8...|  0|696|  7|0.14938983050847432|\n",
      "|0720207dca00bce45...|707| 11| 98| 3.4057457627118586|\n",
      "|07ba2a6d232c1b069...|  0|710|  2| 0.0528644067796609|\n",
      "|09eee30bd6fc147a5...|548|149| 14|0.31637288135593167|\n",
      "|0c16b1c8dbda2d0f4...|662|  3| 75| 2.1115254237288106|\n",
      "|0c4bba00ec7edf56e...|272|432| 16| 0.3005932203389825|\n",
      "+--------------------+---+---+---+-------------------+\n",
      "only showing top 10 rows\n",
      "\n"
     ]
    }
   ],
   "source": [
    "lrfm_df = transactions_df.groupBy(\"customer_id\").agg(\n",
    "    # L = tiempo de vida (última compra - primera compra)\n",
    "    (datediff(spark_max(\"t_dat\"), spark_min(\"t_dat\"))).alias(\"L\"),\n",
    "    \n",
    "    # R = días desde última compra hasta la fecha de referencia\n",
    "    datediff(lit(max_date), spark_max(\"t_dat\")).alias(\"R\"),\n",
    "    \n",
    "    # F = número de compras realizadas\n",
    "    count(\"*\").alias(\"F\"),\n",
    "    \n",
    "    # M = gasto total del cliente\n",
    "    spark_sum(\"price\").alias(\"M\")\n",
    ")\n",
    "\n",
    "lrfm_df.show(10)\n"
   ]
  },
  {
   "cell_type": "markdown",
   "id": "1670c0ec-7316-4410-bcaa-fbab619c9c71",
   "metadata": {},
   "source": [
    "Interpretación:\n",
    "\n",
    "Primer clientes, cliente activo por un tiempo limitado (L medio), pero lleva casi lleva tiempo sin comprar (R alto). Frecuencia y gasto moderados → cliente “dormido”.\n",
    "\n",
    "Segundo cliente,cliente con larga vida (L alto), compró hace poco (R bajo), bastante frecuente y buen gasto → cliente leal y activo.\n",
    "\n",
    "Tercer cliente, cliente muy longevo, compra muy reciente, altísima frecuencia y gasto → cliente VIP.\n",
    "\n",
    "Cuarto cliente, historial intermedio, pero lleva más de un año sin comprar (R alto), baja frecuencia y gasto → cliente en riesgo de pérdida."
   ]
  },
  {
   "cell_type": "markdown",
   "id": "a8e440d7-d0ee-4096-bb77-4b5218dfc192",
   "metadata": {},
   "source": [
    "### Segmentación de clientes"
   ]
  },
  {
   "cell_type": "code",
   "execution_count": 33,
   "id": "ee2b8ed4-da4c-4b31-985c-9e53b8c1f77b",
   "metadata": {},
   "outputs": [
    {
     "name": "stdout",
     "output_type": "stream",
     "text": [
      "+--------------------+---+---+---+-------------------+-----------------+\n",
      "|         customer_id|  L|  R|  F|                  M|         Segmento|\n",
      "+--------------------+---+---+---+-------------------+-----------------+\n",
      "|fde6f7236ab9c9618...|162|571| 12|  0.203203389830508|Cliente en Riesgo|\n",
      "|20d8178fd4d25d012...|706| 26| 41|  0.823220338983049|  Cliente Regular|\n",
      "|56211faa7c8b6f289...|728|  4| 54| 0.9037118644067762|  Cliente Regular|\n",
      "|0037dbd391c8b1535...|300|370|  7|0.24818644067796575|Cliente en Riesgo|\n",
      "|052107ad48bdd5ee8...|  0|696|  7|0.14938983050847432|Cliente en Riesgo|\n",
      "|0720207dca00bce45...|707| 11| 98| 3.4057457627118586|  Cliente Regular|\n",
      "|07ba2a6d232c1b069...|  0|710|  2| 0.0528644067796609|Cliente en Riesgo|\n",
      "|09eee30bd6fc147a5...|548|149| 14|0.31637288135593167|Cliente en Riesgo|\n",
      "|0c16b1c8dbda2d0f4...|662|  3| 75| 2.1115254237288106|  Cliente Regular|\n",
      "|0c4bba00ec7edf56e...|272|432| 16| 0.3005932203389825|Cliente en Riesgo|\n",
      "+--------------------+---+---+---+-------------------+-----------------+\n",
      "only showing top 10 rows\n",
      "\n"
     ]
    }
   ],
   "source": [
    "segmented_df = lrfm_df.withColumn(\n",
    "    \"Segmento\",\n",
    "    when((col(\"R\") <= 30) & (col(\"F\") >= 10) & (col(\"M\") > 1000), \"Cliente VIP\")\n",
    "    .when((col(\"R\") <= 30) & (col(\"F\") < 10), \"Cliente Nuevo\")\n",
    "    .when((col(\"R\") > 60), \"Cliente en Riesgo\")\n",
    "    .otherwise(\"Cliente Regular\")\n",
    ")\n",
    "\n",
    "segmented_df.show(10)"
   ]
  },
  {
   "cell_type": "code",
   "execution_count": null,
   "id": "dcccab6d-241b-40e1-809a-07854feb4ed4",
   "metadata": {},
   "outputs": [],
   "source": []
  }
 ],
 "metadata": {
  "kernelspec": {
   "display_name": "Python 3 (ipykernel)",
   "language": "python",
   "name": "python3"
  },
  "language_info": {
   "codemirror_mode": {
    "name": "ipython",
    "version": 3
   },
   "file_extension": ".py",
   "mimetype": "text/x-python",
   "name": "python",
   "nbconvert_exporter": "python",
   "pygments_lexer": "ipython3",
   "version": "3.11.6"
  }
 },
 "nbformat": 4,
 "nbformat_minor": 5
}
