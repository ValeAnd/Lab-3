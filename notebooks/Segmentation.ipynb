{
 "cells": [
  {
   "cell_type": "code",
   "execution_count": 44,
   "id": "005e7daf-9c11-43b6-9a3e-95dde789748d",
   "metadata": {},
   "outputs": [],
   "source": [
    "from pyspark.sql import SparkSession\n",
    "from pyspark.sql.functions import col, to_date, sum as _sum, desc, monotonically_increasing_id, lit, month, avg, stddev, when, lit\n",
    "from pyspark.sql.window import Window\n",
    "from pyspark.sql.types import DoubleType, DateType"
   ]
  },
  {
   "cell_type": "code",
   "execution_count": 15,
   "id": "41b008dd-3006-4894-96f4-56c00ce566e9",
   "metadata": {},
   "outputs": [],
   "source": [
    "spark = SparkSession.builder \\\n",
    "    .appName(\"hym\") \\\n",
    "    .master(\"local[2]\") \\\n",
    "    .config(\"spark.ui.port\", \"4040\") \\\n",
    "    .getOrCreate()"
   ]
  },
  {
   "cell_type": "markdown",
   "id": "f9ca867c-3476-4d67-8f41-def0683d4981",
   "metadata": {},
   "source": [
    "## Carga y limpieza de datos"
   ]
  },
  {
   "cell_type": "code",
   "execution_count": 16,
   "id": "aa7e7981-f911-4741-a4b3-e7f3bb22053b",
   "metadata": {},
   "outputs": [],
   "source": [
    "ORIGEN_DATOS = \"./data\""
   ]
  },
  {
   "cell_type": "code",
   "execution_count": 17,
   "id": "dfb8bbd3-3d92-4bae-8adb-96a3e3aeab00",
   "metadata": {},
   "outputs": [],
   "source": [
    "df_transactions = spark.read.parquet(\"/home/jovyan/data/transactions.parquet\", header=True, inferSchema=True)"
   ]
  },
  {
   "cell_type": "code",
   "execution_count": 82,
   "id": "1c9ee7e6-0fb6-4347-9e5f-9e797b273f09",
   "metadata": {},
   "outputs": [],
   "source": [
    "productos_df = spark.read.csv(\"/home/jovyan/data/articles.csv\", header=True, inferSchema=True)"
   ]
  },
  {
   "cell_type": "code",
   "execution_count": 18,
   "id": "55ab9118-5e45-4c5b-8415-ba067d77ee7c",
   "metadata": {},
   "outputs": [
    {
     "name": "stdout",
     "output_type": "stream",
     "text": [
      "root\n",
      " |-- t_dat: string (nullable = true)\n",
      " |-- customer_id: string (nullable = true)\n",
      " |-- article_id: long (nullable = true)\n",
      " |-- price: double (nullable = true)\n",
      " |-- sales_channel_id: long (nullable = true)\n",
      "\n",
      "+----------+--------------------+----------+------------------+----------------+\n",
      "|     t_dat|         customer_id|article_id|             price|sales_channel_id|\n",
      "+----------+--------------------+----------+------------------+----------------+\n",
      "|2018-09-20|000058a12d5b43e67...| 663713001|0.0508305084745762|               2|\n",
      "|2018-09-20|000058a12d5b43e67...| 541518023|0.0304915254237288|               2|\n",
      "|2018-09-20|00007d2de826758b6...| 505221004|0.0152372881355932|               2|\n",
      "|2018-09-20|00007d2de826758b6...| 685687003|0.0169322033898305|               2|\n",
      "|2018-09-20|00007d2de826758b6...| 685687004|0.0169322033898305|               2|\n",
      "+----------+--------------------+----------+------------------+----------------+\n",
      "only showing top 5 rows\n",
      "\n"
     ]
    }
   ],
   "source": [
    "df_transactions.printSchema()\n",
    "df_transactions.show(5)"
   ]
  },
  {
   "cell_type": "code",
   "execution_count": 19,
   "id": "1db22aa3-f7b0-46db-a1c1-005ba3eada90",
   "metadata": {},
   "outputs": [],
   "source": [
    "df_transactions = df_transactions.dropna(subset=[\"article_id\", \"price\", \"t_dat\"])"
   ]
  },
  {
   "cell_type": "code",
   "execution_count": 7,
   "id": "b437aef5-eee3-41cd-91aa-4dd0a1abfd91",
   "metadata": {},
   "outputs": [
    {
     "name": "stdout",
     "output_type": "stream",
     "text": [
      "root\n",
      " |-- t_dat: date (nullable = true)\n",
      " |-- customer_id: string (nullable = true)\n",
      " |-- article_id: long (nullable = true)\n",
      " |-- price: double (nullable = true)\n",
      " |-- sales_channel_id: long (nullable = true)\n",
      "\n",
      "+----------+--------------------+----------+------------------+----------------+\n",
      "|     t_dat|         customer_id|article_id|             price|sales_channel_id|\n",
      "+----------+--------------------+----------+------------------+----------------+\n",
      "|2018-09-20|000058a12d5b43e67...| 663713001|0.0508305084745762|               2|\n",
      "|2018-09-20|000058a12d5b43e67...| 541518023|0.0304915254237288|               2|\n",
      "|2018-09-20|00007d2de826758b6...| 505221004|0.0152372881355932|               2|\n",
      "|2018-09-20|00007d2de826758b6...| 685687003|0.0169322033898305|               2|\n",
      "|2018-09-20|00007d2de826758b6...| 685687004|0.0169322033898305|               2|\n",
      "+----------+--------------------+----------+------------------+----------------+\n",
      "only showing top 5 rows\n",
      "\n"
     ]
    }
   ],
   "source": [
    "# Convertir price a double y t_dat a fecha\n",
    "df_transactions = df_transactions.withColumn(\"price\", col(\"price\").cast(DoubleType()))\n",
    "df_transactions = df_transactions.withColumn(\"t_dat\", to_date(\"t_dat\", \"yyyy-MM-dd\"))\n",
    "\n",
    "df_transactions.printSchema()\n",
    "df_transactions.show(5)"
   ]
  },
  {
   "cell_type": "code",
   "execution_count": 20,
   "id": "51cd007f-1552-414b-8950-ccf022a9b542",
   "metadata": {},
   "outputs": [],
   "source": [
    "df_transactions = df_transactions.dropDuplicates()"
   ]
  },
  {
   "cell_type": "code",
   "execution_count": 21,
   "id": "b27084de-e868-424f-952e-48bcb0c03b01",
   "metadata": {},
   "outputs": [],
   "source": [
    "df_transactions = df_transactions.filter(col(\"price\") > 0)"
   ]
  },
  {
   "cell_type": "markdown",
   "id": "814a3014-47a4-4bae-8225-53a2ddf7731f",
   "metadata": {},
   "source": [
    "## Análisis exploratorio de ventas"
   ]
  },
  {
   "cell_type": "markdown",
   "id": "418e2306-7c8a-415e-ae47-4e401e6c5da1",
   "metadata": {},
   "source": [
    "Entender los patrones de ventas tanto por artículo como por cliente antes de segmentar."
   ]
  },
  {
   "cell_type": "markdown",
   "id": "86e36392-97ac-49ca-8dc4-b3807a24af45",
   "metadata": {},
   "source": [
    "### Ventas por artículo"
   ]
  },
  {
   "cell_type": "markdown",
   "id": "cfc321b1-2d5e-4e7c-aed9-b4ce764aad71",
   "metadata": {},
   "source": [
    "En esta sección agrupamos las transacciones por article_id y calculamos la suma de precios (ventas_totales). Esto nos permite identificar cuáles son los artículos que generan mayores ingresos."
   ]
  },
  {
   "cell_type": "code",
   "execution_count": 24,
   "id": "886bff28-02c4-4a02-894d-9665801955b1",
   "metadata": {},
   "outputs": [],
   "source": [
    "ventas_por_articulo = df_transactions.groupBy(\"article_id\") \\\n",
    "    .agg(_sum(\"price\").alias(\"ventas_totales\")) \\\n",
    "    .orderBy(desc(\"ventas_totales\"))"
   ]
  },
  {
   "cell_type": "code",
   "execution_count": 25,
   "id": "3109b804-c146-4df3-90e6-8816a5143444",
   "metadata": {},
   "outputs": [
    {
     "name": "stdout",
     "output_type": "stream",
     "text": [
      "+----------+-----------------+\n",
      "|article_id|   ventas_totales|\n",
      "+----------+-----------------+\n",
      "| 706016001|1382.011830508448|\n",
      "| 706016002|999.6281694915132|\n",
      "| 568601006|814.2092711864365|\n",
      "| 448509014|651.9398644067832|\n",
      "| 720125001| 615.029305084746|\n",
      "| 399223001|607.2593389830512|\n",
      "| 706016003|606.3822203389833|\n",
      "| 562245046|569.2069152542371|\n",
      "| 751471001|510.2263050847457|\n",
      "| 661794001|488.0907118644064|\n",
      "+----------+-----------------+\n",
      "\n"
     ]
    }
   ],
   "source": [
    "ventas_por_articulo.limit(10).show()"
   ]
  },
  {
   "cell_type": "markdown",
   "id": "1084f9f8-1e7f-40ce-a889-5776e515193f",
   "metadata": {},
   "source": [
    "### Ventas por cliente"
   ]
  },
  {
   "cell_type": "markdown",
   "id": "8590cbf7-2191-4bb2-aa1f-46bff8360036",
   "metadata": {},
   "source": [
    "Aquí agrupamos por customer_id para calcular cuánto ha gastado cada cliente en total. Esto ayuda a reconocer a los clientes más valiosos (los que más compran)."
   ]
  },
  {
   "cell_type": "code",
   "execution_count": 30,
   "id": "0f10579e-d1ad-4860-8f0e-d2c543e5bd39",
   "metadata": {},
   "outputs": [],
   "source": [
    "ventas_por_cliente = df_transactions.groupBy(\"customer_id\") \\\n",
    "    .agg(_sum(\"price\").alias(\"gasto_total\")) \\\n",
    "    .orderBy(desc(\"gasto_total\"))"
   ]
  },
  {
   "cell_type": "code",
   "execution_count": 31,
   "id": "4a2772ac-1672-4c29-90ff-d751929826b9",
   "metadata": {},
   "outputs": [
    {
     "name": "stdout",
     "output_type": "stream",
     "text": [
      "+--------------------+------------------+\n",
      "|         customer_id|       gasto_total|\n",
      "+--------------------+------------------+\n",
      "|be1981ab818cf4ef6...| 49.36140677966093|\n",
      "|a65f77281a528bf5c...| 49.20459322033892|\n",
      "|b4db5e5259234574e...| 44.20322033898298|\n",
      "|cd04ec2726dd58a8c...| 40.57903389830502|\n",
      "|191071b0e1f2e94a5...|40.490186440677924|\n",
      "|77db96923d20d4053...| 39.78423728813556|\n",
      "|6cc121e5cc202d2bf...|39.672813559321995|\n",
      "|f137c16fd17527192...|39.265389830508425|\n",
      "|03d0011487606c37c...| 37.49713559322029|\n",
      "|863f0e03da282ae32...|  36.9677796610169|\n",
      "+--------------------+------------------+\n",
      "only showing top 10 rows\n",
      "\n"
     ]
    }
   ],
   "source": [
    "ventas_por_cliente.show(10)"
   ]
  },
  {
   "cell_type": "markdown",
   "id": "bbea4b67-b80c-4225-a321-240d1bf5f447",
   "metadata": {},
   "source": [
    "## ABC Segmentation"
   ]
  },
  {
   "cell_type": "markdown",
   "id": "bbb4e08f-7977-4737-a6c5-9c39bce4a1b5",
   "metadata": {},
   "source": [
    "Objetivo: Clasificar los artículos en A, B o C según su contribución a las ventas totales.\n",
    "\n",
    "A: Pocos artículos generan ~70-80% de las ventas.\n",
    "B: Artículos medianos, 15-25%.\n",
    "C: El resto (baja contribución)."
   ]
  },
  {
   "cell_type": "markdown",
   "id": "36eb870e-acaa-4658-a1f9-ce0952730c3e",
   "metadata": {},
   "source": [
    "Clasificamos artículos en A, B o C según su contribución acumulada en ventas."
   ]
  },
  {
   "cell_type": "code",
   "execution_count": 95,
   "id": "0d2e83a2-e304-4a0c-8db8-6db338af1836",
   "metadata": {},
   "outputs": [],
   "source": [
    "# Total de ventas\n",
    "total_ventas = ventas_por_articulo.agg(_sum(\"ventas_totales\")).collect()[0][0]\n",
    "\n",
    "# Calcular % y % acumulado\n",
    "window_spec = Window.orderBy(desc(\"ventas_totales\"))\n",
    "\n",
    "ventas_abc = ventas_por_articulo \\\n",
    "    .withColumn(\"porcentaje\", col(\"ventas_totales\") / total_ventas * 100) \\\n",
    "    .withColumn(\"porcentaje_acumulado\", _sum(\"porcentaje\").over(window_spec)) \\\n",
    "    .withColumn(\n",
    "        \"categoria_ABC\",\n",
    "        when(col(\"porcentaje_acumulado\") <= 80, \"A\")\n",
    "        .when(col(\"porcentaje_acumulado\") <= 95, \"B\")\n",
    "        .otherwise(\"C\")\n",
    "    )\n",
    "\n",
    "# Agregar columna del nombre del producto\n",
    "ventas_abc = ventas_abc.join(\n",
    "    productos_df.select(\"article_id\", \"prod_name\"),\n",
    "    on=\"article_id\",\n",
    "    how=\"left\"\n",
    ")"
   ]
  },
  {
   "cell_type": "code",
   "execution_count": 97,
   "id": "1edd1a87-7fdc-420b-bad5-a5e28885df03",
   "metadata": {},
   "outputs": [
    {
     "name": "stdout",
     "output_type": "stream",
     "text": [
      "+----------+--------------------+------------------+--------------------+--------------------+-------------+\n",
      "|article_id|           prod_name|    ventas_totales|          porcentaje|porcentaje_acumulado|categoria_ABC|\n",
      "+----------+--------------------+------------------+--------------------+--------------------+-------------+\n",
      "| 706016001|Jade HW Skinny De...| 1382.011830508448| 0.17297676547168372| 0.17297676547168372|            A|\n",
      "| 706016002|Jade HW Skinny De...| 999.6281694915132| 0.12511647412555563|  0.2980932395972393|            A|\n",
      "| 568601006|     Mariette Blazer| 814.2092711864365| 0.10190888604410238|  0.4000021256413417|            A|\n",
      "| 448509014|Perrie Slim Mom D...| 651.9398644067832| 0.08159875808417986| 0.48160088372552157|            A|\n",
      "| 720125001|   SUPREME RW tights|  615.029305084746| 0.07697892124752433|  0.5585798049730459|            A|\n",
      "| 399223001|Curvy Jeggings HW...| 607.2593389830512|  0.0760064088750352|  0.6345862138480811|            A|\n",
      "| 706016003|Jade HW Skinny De...| 606.3822203389833| 0.07589662606230055|  0.7104828399103816|            A|\n",
      "| 562245046|      Luna skinny RW| 569.2069152542371| 0.07124365284815908|  0.7817264927585407|            A|\n",
      "| 751471001| Pluto RW slacks (1)| 510.2263050847457| 0.06386146193817863|  0.8455879546967193|            A|\n",
      "| 661794001|            Flamingo| 488.0907118644064| 0.06109090438394803|  0.9066788590806674|            A|\n",
      "| 706016015|Jade HW Skinny De...| 449.6888305084739| 0.05628440918735286|  0.9629632682680203|            A|\n",
      "| 562245001|      Luna skinny RW|447.39632203389607| 0.05599747191807999|  1.0189607401861003|            A|\n",
      "| 554450001|Julia RW Skinny D...| 420.6853050847446| 0.05265424054167151|  1.0716149807277717|            A|\n",
      "| 399201002|  Shaping Skinny H.W| 417.0297796610167|0.052196703963519844|  1.1238116846912916|            A|\n",
      "| 687704001|Embrace S.Skinny ...| 415.1740677966104| 0.05196443747428558|  1.1757761221655771|            A|\n",
      "| 399136009| Shaping Skinny R.W.| 411.4196610169488| 0.05149452460764108|  1.2272706467732182|            A|\n",
      "| 741356002|    Pamela Shorts HW| 399.4510508474562| 0.04999649729079196|  1.2772671440640102|            A|\n",
      "| 673677002|     Henry polo. (1)| 383.9525762711853| 0.04805666150735864|  1.3253238055713688|            A|\n",
      "| 590928001|   New Girl Push Top| 382.5914237288146|0.047886295553250836|  1.3732101011246196|            A|\n",
      "| 372860001|  7p Basic Shaftless| 380.2293050847444|0.047590645665390396|  1.4208007467900101|            A|\n",
      "+----------+--------------------+------------------+--------------------+--------------------+-------------+\n",
      "only showing top 20 rows\n",
      "\n"
     ]
    }
   ],
   "source": [
    "ventas_abc.select(\n",
    "    \"article_id\", \"prod_name\", \"ventas_totales\", \"porcentaje\", \"porcentaje_acumulado\", \"categoria_ABC\"\n",
    ").show(20)"
   ]
  },
  {
   "cell_type": "markdown",
   "id": "6629bcae-fb11-463e-adb5-8deb8fbc27fe",
   "metadata": {},
   "source": [
    "## XYZ Analysis (variabilidad de la demanda)"
   ]
  },
  {
   "cell_type": "markdown",
   "id": "cc5e3bc8-b04d-4967-b270-a038543de683",
   "metadata": {},
   "source": [
    "Objetivo: Medir la estabilidad de la demanda de cada artículo usando el coeficiente de variación (CV = σ/μ).\n",
    "\n",
    "X: Demanda estable (baja variación).\n",
    "Y: Variación moderada.\n",
    "Z: Muy variable/incierta."
   ]
  },
  {
   "cell_type": "code",
   "execution_count": 37,
   "id": "8049ec94-4bc2-483a-9947-84aac87463cc",
   "metadata": {},
   "outputs": [
    {
     "name": "stdout",
     "output_type": "stream",
     "text": [
      "+----------+--------------------+----------+------------------+----------------+-----+\n",
      "|     t_dat|         customer_id|article_id|             price|sales_channel_id|month|\n",
      "+----------+--------------------+----------+------------------+----------------+-----+\n",
      "|2018-09-20|00d781e94d9a533dc...| 568858001|0.1186271186440677|               2|    9|\n",
      "|2018-09-20|02e45757a6bc483ef...| 537688014|0.0508305084745762|               1|    9|\n",
      "|2018-09-20|03264406f2f5ad204...| 552617006|0.0287966101694915|               1|    9|\n",
      "|2018-09-20|06e049f19c81c205a...| 305304008|0.0109661016949152|               2|    9|\n",
      "|2018-09-20|07bb7488546134d6c...| 671553002|0.0169322033898305|               1|    9|\n",
      "+----------+--------------------+----------+------------------+----------------+-----+\n",
      "only showing top 5 rows\n",
      "\n"
     ]
    }
   ],
   "source": [
    "# Crear columna 'month' a partir de 't_dat'\n",
    "df_transactions = df_transactions.withColumn(\"month\", month(\"t_dat\"))\n",
    "df_transactions.show(5)"
   ]
  },
  {
   "cell_type": "code",
   "execution_count": 85,
   "id": "a1339eb9-33a9-4cf6-a8a7-5ccb641e2dad",
   "metadata": {},
   "outputs": [],
   "source": [
    "# Agrupar ventas por artículo y mes\n",
    "ventas_mensuales = df_transactions.groupBy(\"article_id\", \"month\") \\\n",
    "    .agg(_sum(\"price\").alias(\"ventas_mes\"))\n",
    "\n",
    "# Calcular media y desviación por artículo\n",
    "xyz_stats = ventas_mensuales.groupBy(\"article_id\") \\\n",
    "    .agg(\n",
    "        avg(\"ventas_mes\").alias(\"mean_ventas\"),\n",
    "        stddev(\"ventas_mes\").alias(\"std_ventas\")\n",
    "    )\n",
    "\n",
    "# Calcular coeficiente de variación\n",
    "xyz_stats = xyz_stats.withColumn(\"cv\", col(\"std_ventas\") / col(\"mean_ventas\"))\n",
    "\n",
    "# Clasificar en X, Y, Z\n",
    "xyz_stats = xyz_stats.withColumn(\n",
    "    \"XYZ\",\n",
    "    when(col(\"cv\") <= 0.5, lit(\"X\"))\n",
    "    .when(col(\"cv\") <= 1.0, lit(\"Y\"))\n",
    "    .otherwise(lit(\"Z\"))\n",
    ")\n",
    "\n",
    "# Agregar columna del nombre del producto\n",
    "xyz_stats = xyz_stats.join(\n",
    "    productos_df.select(\"article_id\", \"prod_name\"),\n",
    "    on=\"article_id\",\n",
    "    how=\"left\"\n",
    ")\n"
   ]
  },
  {
   "cell_type": "code",
   "execution_count": 86,
   "id": "e9a53b38-ac51-4b1c-8549-5e95d84344b1",
   "metadata": {},
   "outputs": [
    {
     "name": "stdout",
     "output_type": "stream",
     "text": [
      "+----------+--------------------+--------------------+-------------------+------------------+---+\n",
      "|article_id|           prod_name|         mean_ventas|         std_ventas|                cv|XYZ|\n",
      "+----------+--------------------+--------------------+-------------------+------------------+---+\n",
      "| 611020008|Slim Straight 5pk...|  1.3125819209039533| 0.3989496963522421| 0.303942702545752|  X|\n",
      "| 547300001|      Harley Sweater|  1.0490169491525407| 1.0870725054026042|1.0362773511722638|  Z|\n",
      "| 673901005|Jade Denim Petite...|   2.478548022598865|  1.760800626052464|0.7104161831838095|  Y|\n",
      "| 733814003|         Molly dress|   1.075866828087164| 1.4307056756004004|1.3298167005893486|  Z|\n",
      "| 784485002|              Malina|   2.300063559322029|  1.792946485203219| 0.779520408441109|  Y|\n",
      "| 739680009|         Mia L/S Tee|0.045599999999999356|0.05307579772843854|1.1639429326412125|  Z|\n",
      "| 772347001|SKINNY LINED CHECKED| 0.17056308851224086|0.13343979847639728|0.7823486291221835|  Y|\n",
      "| 788632009|             Douglas|   1.377833898305081|  2.335692567877133|1.6951916851155613|  Z|\n",
      "| 807174001|Lupin padded softbra|   3.035158705701076|  2.448321352795423|0.8066534867506698|  Y|\n",
      "| 692002005|       PE CORRES TEE|  1.2565951035781522|  1.335053847103419|1.0624375690322647|  Z|\n",
      "+----------+--------------------+--------------------+-------------------+------------------+---+\n",
      "only showing top 10 rows\n",
      "\n"
     ]
    }
   ],
   "source": [
    "xyz_stats.select(\n",
    "    \"article_id\", \"prod_name\", \"mean_ventas\", \"std_ventas\", \"cv\", \"XYZ\"\n",
    ").show(10)"
   ]
  },
  {
   "cell_type": "markdown",
   "id": "41d601b0-b445-4353-8edd-8b88e52dce70",
   "metadata": {},
   "source": [
    "## ABC/XYZ Segmentation final"
   ]
  },
  {
   "cell_type": "markdown",
   "id": "3f1eca1b-2698-453a-b6c3-2c3f642f4f92",
   "metadata": {
    "jp-MarkdownHeadingCollapsed": true
   },
   "source": [
    "Objetivo: Combinar las dos clasificaciones para tener una matriz de 9 segmentos (AX, AY, AZ, BX, …, CZ)."
   ]
  },
  {
   "cell_type": "code",
   "execution_count": 102,
   "id": "23245175-5298-40d4-a3de-f2ce0536a0fa",
   "metadata": {},
   "outputs": [],
   "source": [
    "# Renombrar prod_name en xyz_stats antes del join\n",
    "xyz_stats_renamed = xyz_stats.withColumnRenamed(\"prod_name\", \"prod_name_xyz\")\n",
    "\n",
    "# Join\n",
    "segmentacion_final = ventas_abc.join(\n",
    "    xyz_stats_renamed.select(\"article_id\", \"XYZ\", \"prod_name_xyz\"), \n",
    "    on=\"article_id\", \n",
    "    how=\"inner\"\n",
    ")\n",
    "\n",
    "# Crear columna Segmento\n",
    "segmentacion_final = segmentacion_final.withColumn(\n",
    "    \"Segmento\",\n",
    "    concat(col(\"categoria_ABC\"), col(\"XYZ\"))\n",
    ")"
   ]
  },
  {
   "cell_type": "code",
   "execution_count": 101,
   "id": "11129c65-f96a-4ada-a514-b0a862c17124",
   "metadata": {},
   "outputs": [
    {
     "name": "stdout",
     "output_type": "stream",
     "text": [
      "+----------+--------------------+-------------------+-------------+---+--------+\n",
      "|article_id|           prod_name|     ventas_totales|categoria_ABC|XYZ|Segmento|\n",
      "+----------+--------------------+-------------------+-------------+---+--------+\n",
      "| 611020008|Slim Straight 5pk...| 15.750983050847438|            A|  X|      AX|\n",
      "| 547300001|      Harley Sweater| 11.539186440677954|            A|  Z|      AZ|\n",
      "| 673901005|Jade Denim Petite...| 29.742576271186387|            A|  Y|      AY|\n",
      "| 733814003|         Molly dress|  7.531067796610147|            B|  Z|      BZ|\n",
      "| 784485002|              Malina| 27.600762711864334|            A|  Y|      AY|\n",
      "| 739680009|         Mia L/S Tee|0.22799999999999676|            C|  Z|      CZ|\n",
      "| 772347001|SKINNY LINED CHECKED|  1.535067796610168|            C|  Y|      CY|\n",
      "| 788632009|             Douglas| 13.778338983050814|            A|  Z|      AZ|\n",
      "| 807174001|Lupin padded softbra| 33.386745762711826|            A|  Y|      AY|\n",
      "| 692002005|       PE CORRES TEE| 11.309355932203372|            A|  Z|      AZ|\n",
      "| 662883002| Alex Soft Midtop SB|  1.466644067796605|            C|  Y|      CY|\n",
      "| 724906006|       Boyfriend L.W| 246.84649152542377|            A|  Y|      AY|\n",
      "| 610776001|           Tilly (1)| 151.49345762711798|            A|  Y|      AY|\n",
      "| 659459001|              Dundee|  36.95067796610168|            A|  Y|      AY|\n",
      "| 517530001|        Jaime LS rib| 0.5473898305084703|            C|  Z|      CZ|\n",
      "| 612136002|    Waterford shorts| 1.3020508474576218|            C|  Y|      CY|\n",
      "| 576897011|   Olga off shoulder|  5.761830508474544|            B|  Y|      BY|\n",
      "| 518158002|       SANDRA shorts| 1.2126949152542292|            C|  X|      CX|\n",
      "| 850587001|   Jam solid sweater| 13.139999999999976|            A|  Y|      AY|\n",
      "| 761328003|HERCULES TANK  CO...| 1.8217627118643955|            C|  Z|      CZ|\n",
      "+----------+--------------------+-------------------+-------------+---+--------+\n",
      "only showing top 20 rows\n",
      "\n"
     ]
    }
   ],
   "source": [
    "segmentacion_final.select(\n",
    "    \"article_id\", \"prod_name\", \"ventas_totales\", \"categoria_ABC\", \"XYZ\", \"Segmento\"\n",
    ").show(20)"
   ]
  },
  {
   "cell_type": "code",
   "execution_count": null,
   "id": "216d48d6-0fec-49f8-b001-71d9d517ecdb",
   "metadata": {},
   "outputs": [],
   "source": []
  }
 ],
 "metadata": {
  "kernelspec": {
   "display_name": "Python 3 (ipykernel)",
   "language": "python",
   "name": "python3"
  },
  "language_info": {
   "codemirror_mode": {
    "name": "ipython",
    "version": 3
   },
   "file_extension": ".py",
   "mimetype": "text/x-python",
   "name": "python",
   "nbconvert_exporter": "python",
   "pygments_lexer": "ipython3",
   "version": "3.11.6"
  }
 },
 "nbformat": 4,
 "nbformat_minor": 5
}
